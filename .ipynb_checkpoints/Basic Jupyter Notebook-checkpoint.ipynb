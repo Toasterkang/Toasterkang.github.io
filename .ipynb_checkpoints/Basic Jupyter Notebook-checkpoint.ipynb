{
 "cells": [
  {
   "cell_type": "markdown",
   "id": "8017f31a",
   "metadata": {},
   "source": [
    "# 1 Learning Python Using Jupyter Notebook\n",
    "\n",
    "**This is bold text**\n",
    "\n",
    "*This is itallic text\n",
    "\n",
    "This is regular text\n",
    "\n",
    "## Sub-heading \n",
    "\n",
    "###  Sub-sub heading\n",
    "\n",
    "Markdown is great for taking notes and organizing your code/thoughts accordingly.\n",
    "\n",
    ">NOTE: Always run cells using shift+enter"
   ]
  },
  {
   "cell_type": "markdown",
   "id": "1d8a10b8",
   "metadata": {},
   "source": [
    "# 2. Basic Python\n",
    "\n",
    "Arithmetic operations you can use:\n",
    "- (+) = addition\n",
    "- (-) = subtraction\n",
    "- (*) = multiplication\n",
    "- (/) = division\n",
    "- (**) = exponent => 3 ** 2 = 3^2 = 9\n",
    "- (%) = modular => find the remainter after division => ex) 9 % 5 = 4 Modular operation is the basis of RSA Encryption ( message encryption for crypto and bank transactions)"
   ]
  },
  {
   "cell_type": "code",
   "execution_count": 1,
   "id": "d6e62ab7",
   "metadata": {},
   "outputs": [
    {
     "name": "stdout",
     "output_type": "stream",
     "text": [
      "11\n"
     ]
    }
   ],
   "source": [
    "# This is a comment. A comment does not run when this cell has a hashtag.\n",
    "# Comments are useful for notes on what the code does.\n",
    "\n",
    "\"\"\" \n",
    "    You can write multi-line comments\n",
    "    using three quotation marks\n",
    "    in the beginning\n",
    "    and the end\n",
    "\"\"\"\n",
    "\n",
    "# Basic arithmatic - Python as a calculator\n",
    "\n",
    "x = 2\n",
    "y = 9\n",
    "\n",
    "print(x + y)\n"
   ]
  },
  {
   "cell_type": "code",
   "execution_count": 2,
   "id": "8886b9c8",
   "metadata": {},
   "outputs": [
    {
     "name": "stdout",
     "output_type": "stream",
     "text": [
      "-7\n"
     ]
    }
   ],
   "source": [
    "print(x-y)"
   ]
  },
  {
   "cell_type": "code",
   "execution_count": 3,
   "id": "167e9689",
   "metadata": {},
   "outputs": [
    {
     "name": "stdout",
     "output_type": "stream",
     "text": [
      "18\n"
     ]
    }
   ],
   "source": [
    "print(x*y)"
   ]
  },
  {
   "cell_type": "code",
   "execution_count": 4,
   "id": "d3bdb17c",
   "metadata": {},
   "outputs": [
    {
     "name": "stdout",
     "output_type": "stream",
     "text": [
      "0.2222222222222222\n"
     ]
    }
   ],
   "source": [
    "# 2/9 = 0.2222\n",
    "print(x/y)"
   ]
  },
  {
   "cell_type": "code",
   "execution_count": 5,
   "id": "771a13ae",
   "metadata": {},
   "outputs": [
    {
     "name": "stdout",
     "output_type": "stream",
     "text": [
      "512\n"
     ]
    }
   ],
   "source": [
    "# 2^9 = 512\n",
    "print(x**y)"
   ]
  },
  {
   "cell_type": "code",
   "execution_count": 6,
   "id": "53a25993",
   "metadata": {},
   "outputs": [
    {
     "name": "stdout",
     "output_type": "stream",
     "text": [
      "1\n"
     ]
    }
   ],
   "source": [
    "# 9 % 2 = 1\n",
    "print(y%x)"
   ]
  },
  {
   "cell_type": "code",
   "execution_count": 7,
   "id": "bb2b1cbd",
   "metadata": {},
   "outputs": [
    {
     "name": "stdout",
     "output_type": "stream",
     "text": [
      "what the fuck\n"
     ]
    }
   ],
   "source": [
    "z = \"what the fuck\"\n",
    "print(z)"
   ]
  },
  {
   "cell_type": "markdown",
   "id": "7d80d6a2",
   "metadata": {},
   "source": [
    "# 3 Control Flow (제어흐름)\n",
    "\n",
    "**Control how our code is supposed to run**\n",
    "\n",
    "Ex) Rock Paper Scissors\n",
    "\n",
    "## Boolean operators\n",
    "\n",
    "**Bool**: is basically a true/false value\n",
    "\n",
    "**Boolean operator: determines if something is true or false\n",
    "- `a == b`: if a is equal to b, then return true. If they are not equal, return False\n",
    "- `a > b`: if a is greater than b, then return true, else false.\n",
    "- `a >= b`: if a is greater than or equal to b, then return true, else false.\n",
    "- `a < b`: if a is less than b, then return true, else false.\n",
    "- `a <= b`: if a is less than or equal to b, then return true. else false.\n",
    "\n",
    "> **IMPORTANT**: tje `=` operator *assigns* the right-hand value to the left-hand variable\n",
    "\n",
    "> Ex) `a = 5` assigns the integer 5 to the variable `a`"
   ]
  },
  {
   "cell_type": "code",
   "execution_count": 8,
   "id": "5035ce14",
   "metadata": {},
   "outputs": [],
   "source": [
    "rock = 0\n",
    "paper = 1\n",
    "scissors = 2"
   ]
  },
  {
   "cell_type": "code",
   "execution_count": 9,
   "id": "42d2c9b1",
   "metadata": {},
   "outputs": [],
   "source": [
    "import random\n",
    "\n",
    "types = ['rock', 'paper', 'scissors']\n",
    "player1 = random.randint(0,2)\n",
    "player2 = paper"
   ]
  },
  {
   "cell_type": "code",
   "execution_count": 10,
   "id": "86ad866e",
   "metadata": {},
   "outputs": [],
   "source": [
    "if player1 == rock:\n",
    "    if player2 == paper:\n",
    "        winner = \"player2\"\n",
    "    elif player2 ==scissors:\n",
    "        winner = \"player1\"\n",
    "    else:\n",
    "        # Final possibility is a tie\n",
    "        winner = \"tie\"\n",
    "        \n",
    "elif player1 == paper:\n",
    "    if player2 == scissors:\n",
    "        winner = \"player2\"\n",
    "    elif player2 == rock:\n",
    "        winner = \"player1\"\n",
    "    else:\n",
    "        winner = \"tie\"\n",
    "        \n",
    "elif player1 == scissors:\n",
    "    if player2 == rock:\n",
    "        winner = \"player2\"\n",
    "    elif player2 == paper:\n",
    "        winner = \"player1\"\n",
    "    else:\n",
    "        winner = \"tie\""
   ]
  },
  {
   "cell_type": "code",
   "execution_count": 11,
   "id": "de0c3eaf",
   "metadata": {},
   "outputs": [
    {
     "name": "stdout",
     "output_type": "stream",
     "text": [
      "Computer played  rock\n",
      "You played  paper\n",
      "The winner is:  player2\n"
     ]
    }
   ],
   "source": [
    "print(\"Computer played \", types[player1])\n",
    "print(\"You played \", types[player2])\n",
    "\n",
    "print(\"The winner is: \", winner)"
   ]
  },
  {
   "cell_type": "code",
   "execution_count": 12,
   "id": "23fa95d2",
   "metadata": {},
   "outputs": [
    {
     "name": "stdout",
     "output_type": "stream",
     "text": [
      "remember this shit mang\n"
     ]
    }
   ],
   "source": [
    "print('remember this shit mang')"
   ]
  },
  {
   "cell_type": "code",
   "execution_count": null,
   "id": "578277a4",
   "metadata": {},
   "outputs": [],
   "source": []
  }
 ],
 "metadata": {
  "kernelspec": {
   "display_name": "Python 3 (ipykernel)",
   "language": "python",
   "name": "python3"
  },
  "language_info": {
   "codemirror_mode": {
    "name": "ipython",
    "version": 3
   },
   "file_extension": ".py",
   "mimetype": "text/x-python",
   "name": "python",
   "nbconvert_exporter": "python",
   "pygments_lexer": "ipython3",
   "version": "3.10.6"
  }
 },
 "nbformat": 4,
 "nbformat_minor": 5
}
